{
 "cells": [
  {
   "cell_type": "code",
   "execution_count": 5,
   "metadata": {},
   "outputs": [],
   "source": [
    "import random\n",
    "import smtplib\n",
    "password='lmko qtgy zsfk zhpd'"
   ]
  },
  {
   "cell_type": "code",
   "execution_count": 10,
   "metadata": {},
   "outputs": [
    {
     "data": {
      "text/plain": [
       "(221, b'2.0.0 closing connection b140sm3590pfb.98 - gsmtp')"
      ]
     },
     "execution_count": 10,
     "metadata": {},
     "output_type": "execute_result"
    }
   ],
   "source": [
    "server=smtplib.SMTP('smtp.gmail.com', 587)\n",
    "server.starttls()\n",
    "server.login('jhakumar045@gmail.com', password)\n",
    "otp=''.join([str(random.randint(0,9)) for i in range(4)])\n",
    "msg='Hello, \\nYour OTP is '+ str(otp)\n",
    "######(sender, receiver, msg)\n",
    "server.sendmail('chilly.tower@gmail.com', 'chilly.tower@gmail.com', msg)\n",
    "server.quit()"
   ]
  },
  {
   "cell_type": "code",
   "execution_count": null,
   "metadata": {},
   "outputs": [],
   "source": [
    "server.sendmail('chilly.tower@gmail.com', 'securesally@gmail.com', msg)"
   ]
  }
 ],
 "metadata": {
  "kernelspec": {
   "display_name": "Python 3",
   "language": "python",
   "name": "python3"
  },
  "language_info": {
   "codemirror_mode": {
    "name": "ipython",
    "version": 3
   },
   "file_extension": ".py",
   "mimetype": "text/x-python",
   "name": "python",
   "nbconvert_exporter": "python",
   "pygments_lexer": "ipython3",
   "version": "3.8.3"
  }
 },
 "nbformat": 4,
 "nbformat_minor": 4
}
